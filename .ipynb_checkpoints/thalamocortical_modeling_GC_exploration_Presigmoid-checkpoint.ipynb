{
 "cells": [
  {
   "cell_type": "code",
   "execution_count": 1,
   "metadata": {},
   "outputs": [
    {
     "name": "stdout",
     "output_type": "stream",
     "text": [
      "Populating the interactive namespace from numpy and matplotlib\n",
      "   INFO  log level set to INFO\n"
     ]
    }
   ],
   "source": [
    "# Purpose is to change the global coupling (gain) and change the thalamoconnectivity \n",
    "# First try changing the gain and compare the FC and SC and plot it as a function of global variability\n",
    "\n",
    "%pylab nbagg\n",
    "from tvb.simulator.lab import *\n",
    "from tvb.simulator.plot.phase_plane_interactive import PhasePlaneInteractive\n",
    "import numpy as np\n",
    "import matplotlib.pyplot as plt"
   ]
  },
  {
   "cell_type": "code",
   "execution_count": 2,
   "metadata": {
    "collapsed": true
   },
   "outputs": [],
   "source": [
    "def run_sim(conn, gain, D, dt=0.5, simlen=1e3):\n",
    "    \"\"\"\n",
    "    Run a single instance of the simulation.\n",
    "    Returns a list of pairs (times, values). There will be one entry\n",
    "    in the list for each output monitor used.\n",
    "    \"\"\"\n",
    "    sim = simulator.Simulator(\n",
    "        \n",
    "        model=models.Generic2dOscillator(a=0.0),\n",
    "        # Change the Conn matrix here; make it twice as large three times as large\n",
    "        connectivity=conn,  # use the connectivity structure defined below\n",
    "        coupling=coupling.PreSigmoidal(H=gain,theta=0.0,dynamic=False), # parameters?\n",
    "        integrator=integrators.HeunStochastic(dt=dt,\n",
    "                           noise=noise.Additive(nsig=numpy.array([D]))),\n",
    "        monitors=[monitors.Raw(period=1000.0)]\n",
    "    )\n",
    "    sim.configure()"
   ]
  },
  {
   "cell_type": "code",
   "execution_count": null,
   "metadata": {
    "collapsed": true
   },
   "outputs": [],
   "source": [
    "# Run the simulation\n",
    "conn=connectivity.Connectivity.from_file('connectivity_96.zip')\n",
    "conn.configure()\n",
    "\n",
    "simlen=660000 # 11 mins, expressed in ms - 10 mins, plus one for burnin\n",
    "burnin=60 # expressed in seconds\n",
    "\n",
    "# using the gain parameter specified on the command line,\n",
    "# run one instance of the simulation\n",
    "# the label is there simply to allow running multiple of these in parallel\n",
    "# without clobbering each other's output files\n",
    "\n",
    "d = {}\n",
    "gain=np.array(0,0.2,0.4,0.6,0.8,1)\n",
    "for i in range(len(gain)):\n",
    "    all_results = run_sim(conn, gain[i], 5e-4, simlen=simlen)\n",
    "    # reshape the data which are output with some empty dimensions\n",
    "    raw = raw[:,0,:,0]\n",
    "    simdata=raw[burnin:,:] # remove the burnin period\n",
    "    gain=round(gain[i],1)\n",
    "    VAR=np.var(simdata)\n",
    "    d['result_' + str(gain[i])] = VAR\n",
    "    \n",
    "print(d)\n"
   ]
  },
  {
   "cell_type": "code",
   "execution_count": null,
   "metadata": {
    "collapsed": true
   },
   "outputs": [],
   "source": [
    "plt.bar(range(len(gain)), d.values(), align='center')\n",
    "plt.xticks(range(len(d)), d.keys())\n",
    "# # for python 2.x:\n",
    "# plt.bar(range(len(D)), D.values(), align='center')  # python 2.x\n",
    "# plt.xticks(range(len(D)), D.keys())  # in python 2.x\n",
    "\n",
    "plt.show()"
   ]
  }
 ],
 "metadata": {
  "kernelspec": {
   "display_name": "Python 2",
   "language": "python",
   "name": "python2"
  },
  "language_info": {
   "codemirror_mode": {
    "name": "ipython",
    "version": 2
   },
   "file_extension": ".py",
   "mimetype": "text/x-python",
   "name": "python",
   "nbconvert_exporter": "python",
   "pygments_lexer": "ipython2",
   "version": "2.7.13"
  }
 },
 "nbformat": 4,
 "nbformat_minor": 2
}
